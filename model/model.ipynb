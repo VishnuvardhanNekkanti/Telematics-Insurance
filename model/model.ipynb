{
 "cells": [
  {
   "cell_type": "code",
   "execution_count": 1,
   "id": "5125fe06",
   "metadata": {},
   "outputs": [
    {
     "name": "stdout",
     "output_type": "stream",
     "text": [
      "✅ Risk score and premium calculated successfully!\n",
      "  driver_id  avg_speed  harsh_brakes  night_drives  phone_usage  risk_score  \\\n",
      "0      D001         60             2             1            0           0   \n",
      "1      D002         85             8             4            1           7   \n",
      "2      D003         45             1             0            0           0   \n",
      "3      D004         78             6             2            0           2   \n",
      "4      D005         95            10             5            1           7   \n",
      "5      D006         52             0             1            0           0   \n",
      "6      D007         88             7             3            1           6   \n",
      "7      D008         66             3             2            0           0   \n",
      "8      D009         72             4             2            1           2   \n",
      "9      D010         49             1             0            0           0   \n",
      "\n",
      "   adjusted_premium  \n",
      "0              1000  \n",
      "1              1700  \n",
      "2              1000  \n",
      "3              1200  \n",
      "4              1700  \n",
      "5              1000  \n",
      "6              1600  \n",
      "7              1000  \n",
      "8              1200  \n",
      "9              1000  \n",
      "✅ Output saved to data/risk_output.csv\n"
     ]
    }
   ],
   "source": [
    "import pandas as pd\n",
    "\n",
    "# Step 1: Load the telematics CSV file\n",
    "df = pd.read_csv(\"../data/telematics.csv\")\n",
    "\n",
    "# Step 2: Define the risk scoring function\n",
    "def calculate_risk(row):\n",
    "    score = 0\n",
    "    if row['avg_speed'] > 80:\n",
    "        score += 2\n",
    "    if row['harsh_brakes'] > 5:\n",
    "        score += 2\n",
    "    if row['night_drives'] > 3:\n",
    "        score += 1\n",
    "    if row['phone_usage'] > 0:\n",
    "        score += 2\n",
    "    return score\n",
    "\n",
    "# Step 3: Apply the function to each row\n",
    "df['risk_score'] = df.apply(calculate_risk, axis=1)\n",
    "\n",
    "# Step 4: Calculate adjusted premium based on risk score\n",
    "df['adjusted_premium'] = 1000 + (df['risk_score'] * 100)\n",
    "\n",
    "# Step 5: Display the final DataFrame\n",
    "print(\"✅ Risk score and premium calculated successfully!\")\n",
    "print(df)\n",
    "\n",
    "# Step 6: Save the output to a new CSV file\n",
    "df.to_csv(\"../data/risk_output.csv\", index=False)\n",
    "print(\"✅ Output saved to data/risk_output.csv\")\n"
   ]
  }
 ],
 "metadata": {
  "kernelspec": {
   "display_name": "Python 3",
   "language": "python",
   "name": "python3"
  },
  "language_info": {
   "codemirror_mode": {
    "name": "ipython",
    "version": 3
   },
   "file_extension": ".py",
   "mimetype": "text/x-python",
   "name": "python",
   "nbconvert_exporter": "python",
   "pygments_lexer": "ipython3",
   "version": "3.11.5"
  }
 },
 "nbformat": 4,
 "nbformat_minor": 5
}
